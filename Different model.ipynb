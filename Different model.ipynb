{
 "cells": [
  {
   "cell_type": "code",
   "execution_count": 34,
   "metadata": {},
   "outputs": [],
   "source": [
    "from qiskit import *\n",
    "%matplotlib inline\n",
    "from qiskit.tools.visualization import plot_histogram\n",
    "import math"
   ]
  },
  {
   "cell_type": "code",
   "execution_count": 194,
   "metadata": {},
   "outputs": [],
   "source": [
    "t = math.pi/4  #set time t"
   ]
  },
  {
   "cell_type": "code",
   "execution_count": 195,
   "metadata": {},
   "outputs": [
    {
     "data": {
      "image/png": "[encoded data removed]",
      "text/plain": [
       "<Figure size 504x360 with 1 Axes>"
      ]
     },
     "execution_count": 195,
     "metadata": {},
     "output_type": "execute_result"
    }
   ],
   "source": [
    "circuit = QuantumCircuit(4,4)\n",
    "circuit.x([1,2,3])\n",
    "circuit.barrier()\n",
    "\n",
    "#1\n",
    "circuit.rz(math.pi/2, 1)\n",
    "circuit.cx(1,0)\n",
    "circuit.rz(2*t - math.pi/2, 0)\n",
    "circuit.ry(math.pi/2 - 2*t, 1)\n",
    "circuit.cx(0,1)\n",
    "circuit.ry(2*t - math.pi/2, 1)\n",
    "circuit.cx(1,0)\n",
    "circuit.rz(-math.pi/2, 0)\n",
    "\n",
    "circuit.barrier()\n",
    "\n",
    "circuit.measure([0,1,2,3], [0,1,2,3])\n",
    "\n",
    "circuit.draw(output = 'mpl')\n",
    "\n",
    "simulator = Aer.get_backend('qasm_simulator')\n",
    "result = execute(circuit, backend = simulator, shots = 100000).result()\n",
    "counts = result.get_counts()\n",
    "plot_histogram(counts)"
   ]
  },
  {
   "cell_type": "code",
   "execution_count": 196,
   "metadata": {},
   "outputs": [
    {
     "data": {
      "image/png": "[encoded data removed]",
      "text/plain": [
       "<Figure size 504x360 with 1 Axes>"
      ]
     },
     "execution_count": 196,
     "metadata": {},
     "output_type": "execute_result"
    }
   ],
   "source": [
    "circuit = QuantumCircuit(4,4)\n",
    "circuit.x([1,2,3])\n",
    "circuit.barrier()\n",
    "\n",
    "#1\n",
    "circuit.rz(math.pi/2, 1)\n",
    "circuit.cx(1,0)\n",
    "circuit.rz(2*t - math.pi/2, 0)\n",
    "circuit.ry(math.pi/2 - 2*t, 1)\n",
    "circuit.cx(0,1)\n",
    "circuit.ry(2*t - math.pi/2, 1)\n",
    "circuit.cx(1,0)\n",
    "circuit.rz(-math.pi/2, 0)\n",
    "\n",
    "circuit.barrier()\n",
    "\n",
    "circuit.measure([0,1,2,3], [0,1,2,3])\n",
    "\n",
    "circuit.barrier()\n",
    "\n",
    "circuit.rz(math.pi/2, 2)\n",
    "circuit.cx(2,1)\n",
    "circuit.rz(2*t - math.pi/2, 1)\n",
    "circuit.ry(math.pi/2 - 2*t, 2)\n",
    "circuit.cx(1,2)\n",
    "circuit.ry(2*t - math.pi/2, 2)\n",
    "circuit.cx(2,1)\n",
    "circuit.rz(-math.pi/2, 1)\n",
    "\n",
    "circuit.barrier()\n",
    "\n",
    "circuit.measure([0,1,2,3], [0,1,2,3])\n",
    "\n",
    "circuit.draw(output = 'mpl')\n",
    "\n",
    "simulator = Aer.get_backend('qasm_simulator')\n",
    "result = execute(circuit, backend = simulator, shots = 100000).result()\n",
    "counts = result.get_counts()\n",
    "plot_histogram(counts)"
   ]
  },
  {
   "cell_type": "code",
   "execution_count": 198,
   "metadata": {},
   "outputs": [
    {
     "data": {
      "image/png": "[encoded data removed]",
      "text/plain": [
       "<Figure size 504x360 with 1 Axes>"
      ]
     },
     "execution_count": 198,
     "metadata": {},
     "output_type": "execute_result"
    }
   ],
   "source": [
    "circuit = QuantumCircuit(4,4)\n",
    "circuit.x([1,2,3])\n",
    "circuit.barrier()\n",
    "\n",
    "#1\n",
    "circuit.rz(math.pi/2, 1)\n",
    "circuit.cx(1,0)\n",
    "circuit.rz(2*t - math.pi/2, 0)\n",
    "circuit.ry(math.pi/2 - 2*t, 1)\n",
    "circuit.cx(0,1)\n",
    "circuit.ry(2*t - math.pi/2, 1)\n",
    "circuit.cx(1,0)\n",
    "circuit.rz(-math.pi/2, 0)\n",
    "\n",
    "circuit.barrier()\n",
    "\n",
    "circuit.rz(math.pi/2, 2)\n",
    "circuit.cx(2,1)\n",
    "circuit.rz(2*t - math.pi/2, 1)\n",
    "circuit.ry(math.pi/2 - 2*t, 2)\n",
    "circuit.cx(1,2)\n",
    "circuit.ry(2*t - math.pi/2, 2)\n",
    "circuit.cx(2,1)\n",
    "circuit.rz(-math.pi/2, 1)\n",
    "\n",
    "circuit.barrier()\n",
    "\n",
    "circuit.rz(math.pi/2, 3)\n",
    "circuit.cx(3,2)\n",
    "circuit.rz(2*t - math.pi/2, 2)\n",
    "circuit.ry(math.pi/2 - 2*t, 3)\n",
    "circuit.cx(2,3)\n",
    "circuit.ry(2*t - math.pi/2, 3)\n",
    "circuit.cx(3,2)\n",
    "circuit.rz(-math.pi/2, 2)\n",
    "\n",
    "circuit.barrier()\n",
    "\n",
    "circuit.measure([0,1,2,3], [0,1,2,3])\n",
    "\n",
    "circuit.draw(output = 'mpl')\n",
    "\n",
    "simulator = Aer.get_backend('qasm_simulator')\n",
    "result = execute(circuit, backend = simulator, shots = 10000).result()\n",
    "counts = result.get_counts()\n",
    "plot_histogram(counts)"
   ]
  },
  {
   "cell_type": "code",
   "execution_count": null,
   "metadata": {},
   "outputs": [],
   "source": []
  },
  {
   "cell_type": "code",
   "execution_count": null,
   "metadata": {},
   "outputs": [],
   "source": []
  }
 ],
 "metadata": {
  "kernelspec": {
   "display_name": "Python 3",
   "language": "python",
   "name": "python3"
  },
  "language_info": {
   "codemirror_mode": {
    "name": "ipython",
    "version": 3
   },
   "file_extension": ".py",
   "mimetype": "text/x-python",
   "name": "python",
   "nbconvert_exporter": "python",
   "pygments_lexer": "ipython3",
   "version": "3.7.4"
  }
 },
 "nbformat": 4,
 "nbformat_minor": 2
}
